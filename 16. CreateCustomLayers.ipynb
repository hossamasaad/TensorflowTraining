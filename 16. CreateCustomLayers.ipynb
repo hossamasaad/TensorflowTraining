{
  "nbformat": 4,
  "nbformat_minor": 0,
  "metadata": {
    "colab": {
      "provenance": []
    },
    "kernelspec": {
      "name": "python3",
      "display_name": "Python 3"
    },
    "language_info": {
      "name": "python"
    },
    "accelerator": "GPU"
  },
  "cells": [
    {
      "cell_type": "markdown",
      "source": [
        "## Lambda Layer"
      ],
      "metadata": {
        "id": "6EtxACtPBzWC"
      }
    },
    {
      "cell_type": "code",
      "source": [
        "import numpy as np\n",
        "import tensorflow as tf\n",
        "from tensorflow.keras.layers import  Dense , Input , Lambda , Flatten\n",
        "from tensorflow.keras.models import Model\n",
        "from tensorflow.nn import relu , softmax\n",
        "from tensorflow.keras.losses import categorical_crossentropy\n",
        "from tensorflow.keras.optimizers import RMSprop\n",
        "from tensorflow.keras import backend as k\n",
        "from tensorflow.keras.datasets import mnist\n",
        "from tensorflow.keras.utils import to_categorical\n",
        "print(\"Version of tensorflow is : \",tf.__version__)"
      ],
      "metadata": {
        "colab": {
          "base_uri": "https://localhost:8080/"
        },
        "id": "X21NLS5FBywU",
        "outputId": "5bf6a271-d74e-4891-e8b8-f7266b4900a0"
      },
      "execution_count": 1,
      "outputs": [
        {
          "output_type": "stream",
          "name": "stdout",
          "text": [
            "Version of tensorflow is :  2.9.2\n"
          ]
        }
      ]
    },
    {
      "cell_type": "code",
      "source": [
        "(train_data , train_label) , (test_data , test_label) = mnist.load_data()\n",
        "\n",
        "train_data = train_data / 255.0\n",
        "test_data  = test_data  / 255.0\n",
        "\n",
        "train_label = to_categorical(train_label)\n",
        "test_label  = to_categorical( test_label)"
      ],
      "metadata": {
        "colab": {
          "base_uri": "https://localhost:8080/"
        },
        "id": "eQ3tUrURB3IZ",
        "outputId": "453cb86f-40be-41e6-9622-5b3c958be9f9"
      },
      "execution_count": 2,
      "outputs": [
        {
          "output_type": "stream",
          "name": "stdout",
          "text": [
            "Downloading data from https://storage.googleapis.com/tensorflow/tf-keras-datasets/mnist.npz\n",
            "11490434/11490434 [==============================] - 0s 0us/step\n"
          ]
        }
      ]
    },
    {
      "cell_type": "code",
      "source": [
        "input = Input(shape=(28 , 28) , name=\"input_layer\")\n",
        "flatten = Flatten(name=\"flatten_layer\")(input)\n",
        "layer_with_activation = Dense(128 , activation=relu , name='layer_with_activation')(flatten)\n",
        "output_layer_with_activation = Dense(10, activation=softmax, name=\"output_layer_with_activation\")(layer_with_activation)"
      ],
      "metadata": {
        "id": "XgG4uyGxB_qN"
      },
      "execution_count": 3,
      "outputs": []
    },
    {
      "cell_type": "code",
      "source": [
        "model = Model(inputs = input,\n",
        "              outputs = output_layer_with_activation)\n",
        "\n",
        "model.compile(optimizer = RMSprop(),\n",
        "              loss = categorical_crossentropy,\n",
        "              metrics = ['acc'])\n",
        "\n",
        "model.summary()"
      ],
      "metadata": {
        "colab": {
          "base_uri": "https://localhost:8080/"
        },
        "id": "fUSmQ3ZtCT-1",
        "outputId": "6a0c1df7-3903-4946-b914-385f3efc9bc6"
      },
      "execution_count": 4,
      "outputs": [
        {
          "output_type": "stream",
          "name": "stdout",
          "text": [
            "Model: \"model\"\n",
            "_________________________________________________________________\n",
            " Layer (type)                Output Shape              Param #   \n",
            "=================================================================\n",
            " input_layer (InputLayer)    [(None, 28, 28)]          0         \n",
            "                                                                 \n",
            " flatten_layer (Flatten)     (None, 784)               0         \n",
            "                                                                 \n",
            " layer_with_activation (Dens  (None, 128)              100480    \n",
            " e)                                                              \n",
            "                                                                 \n",
            " output_layer_with_activatio  (None, 10)               1290      \n",
            " n (Dense)                                                       \n",
            "                                                                 \n",
            "=================================================================\n",
            "Total params: 101,770\n",
            "Trainable params: 101,770\n",
            "Non-trainable params: 0\n",
            "_________________________________________________________________\n"
          ]
        }
      ]
    },
    {
      "cell_type": "code",
      "source": [
        "model.fit(train_data,\n",
        "          train_label,\n",
        "          epochs=5)\n",
        "\n",
        "model.evaluate(test_data,\n",
        "               test_label)"
      ],
      "metadata": {
        "colab": {
          "base_uri": "https://localhost:8080/"
        },
        "id": "aXoWmTeQChoG",
        "outputId": "bc95ca56-8401-4cfd-b2a6-4affd7738847"
      },
      "execution_count": 5,
      "outputs": [
        {
          "output_type": "stream",
          "name": "stdout",
          "text": [
            "Epoch 1/5\n",
            "1875/1875 [==============================] - 6s 2ms/step - loss: 0.2571 - acc: 0.9262\n",
            "Epoch 2/5\n",
            "1875/1875 [==============================] - 5s 2ms/step - loss: 0.1191 - acc: 0.9659\n",
            "Epoch 3/5\n",
            "1875/1875 [==============================] - 5s 2ms/step - loss: 0.0885 - acc: 0.9745\n",
            "Epoch 4/5\n",
            "1875/1875 [==============================] - 5s 2ms/step - loss: 0.0709 - acc: 0.9801\n",
            "Epoch 5/5\n",
            "1875/1875 [==============================] - 5s 2ms/step - loss: 0.0610 - acc: 0.9832\n",
            "313/313 [==============================] - 1s 2ms/step - loss: 0.0891 - acc: 0.9762\n"
          ]
        },
        {
          "output_type": "execute_result",
          "data": {
            "text/plain": [
              "[0.08914616703987122, 0.9761999845504761]"
            ]
          },
          "metadata": {},
          "execution_count": 5
        }
      ]
    },
    {
      "cell_type": "code",
      "source": [
        "layer_without_activation = Dense(128 , name='layer_without_activation')(flatten)\n",
        "output_layer_without_activation = Dense(10 , activation=softmax , name=\"output_layer_with_activation\")(layer_without_activation)\n",
        "\n",
        "model_without_activation = Model(inputs = input,\n",
        "                                 outputs = output_layer_without_activation)\n",
        "\n",
        "model_without_activation.compile(optimizer = RMSprop(),\n",
        "                                 loss = categorical_crossentropy,\n",
        "                                 metrics = ['acc'])\n",
        "\n",
        "model_without_activation.summary()"
      ],
      "metadata": {
        "colab": {
          "base_uri": "https://localhost:8080/"
        },
        "id": "unQRiuA_Cpsr",
        "outputId": "6ec0f026-0403-489e-85d6-c7ad8e3253d4"
      },
      "execution_count": 6,
      "outputs": [
        {
          "output_type": "stream",
          "name": "stdout",
          "text": [
            "Model: \"model_1\"\n",
            "_________________________________________________________________\n",
            " Layer (type)                Output Shape              Param #   \n",
            "=================================================================\n",
            " input_layer (InputLayer)    [(None, 28, 28)]          0         \n",
            "                                                                 \n",
            " flatten_layer (Flatten)     (None, 784)               0         \n",
            "                                                                 \n",
            " layer_without_activation (D  (None, 128)              100480    \n",
            " ense)                                                           \n",
            "                                                                 \n",
            " output_layer_with_activatio  (None, 10)               1290      \n",
            " n (Dense)                                                       \n",
            "                                                                 \n",
            "=================================================================\n",
            "Total params: 101,770\n",
            "Trainable params: 101,770\n",
            "Non-trainable params: 0\n",
            "_________________________________________________________________\n"
          ]
        }
      ]
    },
    {
      "cell_type": "code",
      "source": [
        "model_without_activation.fit(train_data,\n",
        "                             train_label,\n",
        "                             epochs=5)\n",
        "\n",
        "model_without_activation.evaluate(test_data, test_label)"
      ],
      "metadata": {
        "colab": {
          "base_uri": "https://localhost:8080/"
        },
        "id": "-nVWsnE3DF5i",
        "outputId": "762c9daa-7f22-4307-98d3-f8fbc73ff84a"
      },
      "execution_count": 7,
      "outputs": [
        {
          "output_type": "stream",
          "name": "stdout",
          "text": [
            "Epoch 1/5\n",
            "1875/1875 [==============================] - 5s 2ms/step - loss: 0.3601 - acc: 0.8981\n",
            "Epoch 2/5\n",
            "1875/1875 [==============================] - 5s 2ms/step - loss: 0.3053 - acc: 0.9158\n",
            "Epoch 3/5\n",
            "1875/1875 [==============================] - 5s 2ms/step - loss: 0.2950 - acc: 0.9193\n",
            "Epoch 4/5\n",
            "1875/1875 [==============================] - 5s 2ms/step - loss: 0.2898 - acc: 0.9194\n",
            "Epoch 5/5\n",
            "1875/1875 [==============================] - 5s 2ms/step - loss: 0.2848 - acc: 0.9216\n",
            "313/313 [==============================] - 1s 2ms/step - loss: 0.3013 - acc: 0.9150\n"
          ]
        },
        {
          "output_type": "execute_result",
          "data": {
            "text/plain": [
              "[0.30130210518836975, 0.9150000214576721]"
            ]
          },
          "metadata": {},
          "execution_count": 7
        }
      ]
    },
    {
      "cell_type": "code",
      "source": [
        "model_lambda = tf.keras.models.Sequential([\n",
        "    tf.keras.layers.Flatten(input_shape=(28,28)),\n",
        "    tf.keras.layers.Dense(128),\n",
        "    tf.keras.layers.Lambda(lambda x : tf.abs(x)),\n",
        "    tf.keras.layers.Dense(10 , activation='softmax')\n",
        "])\n",
        "\n",
        "model_lambda.compile(optimizer = RMSprop() , loss = categorical_crossentropy , metrics = ['acc'])\n",
        "model_lambda.summary()\n",
        "model_lambda.fit(train_data , train_label , epochs=5)\n",
        "model_lambda.evaluate(test_data , test_label)"
      ],
      "metadata": {
        "colab": {
          "base_uri": "https://localhost:8080/"
        },
        "id": "RB2wE_7uDahO",
        "outputId": "a8d91187-eb31-4394-e937-20cc5ce55c02"
      },
      "execution_count": 8,
      "outputs": [
        {
          "output_type": "stream",
          "name": "stdout",
          "text": [
            "Model: \"sequential\"\n",
            "_________________________________________________________________\n",
            " Layer (type)                Output Shape              Param #   \n",
            "=================================================================\n",
            " flatten (Flatten)           (None, 784)               0         \n",
            "                                                                 \n",
            " dense (Dense)               (None, 128)               100480    \n",
            "                                                                 \n",
            " lambda (Lambda)             (None, 128)               0         \n",
            "                                                                 \n",
            " dense_1 (Dense)             (None, 10)                1290      \n",
            "                                                                 \n",
            "=================================================================\n",
            "Total params: 101,770\n",
            "Trainable params: 101,770\n",
            "Non-trainable params: 0\n",
            "_________________________________________________________________\n",
            "Epoch 1/5\n",
            "1875/1875 [==============================] - 5s 3ms/step - loss: 0.2157 - acc: 0.9384\n",
            "Epoch 2/5\n",
            "1875/1875 [==============================] - 5s 3ms/step - loss: 0.0903 - acc: 0.9735\n",
            "Epoch 3/5\n",
            "1875/1875 [==============================] - 5s 3ms/step - loss: 0.0651 - acc: 0.9808\n",
            "Epoch 4/5\n",
            "1875/1875 [==============================] - 5s 3ms/step - loss: 0.0509 - acc: 0.9845\n",
            "Epoch 5/5\n",
            "1875/1875 [==============================] - 5s 3ms/step - loss: 0.0409 - acc: 0.9876\n",
            "313/313 [==============================] - 1s 2ms/step - loss: 0.0813 - acc: 0.9776\n"
          ]
        },
        {
          "output_type": "execute_result",
          "data": {
            "text/plain": [
              "[0.08125089108943939, 0.9775999784469604]"
            ]
          },
          "metadata": {},
          "execution_count": 8
        }
      ]
    },
    {
      "cell_type": "code",
      "source": [
        "def myRelu(x):\n",
        "    return k.maximum(x , 0.0)\n",
        "    \n",
        "model_lambda_func = tf.keras.models.Sequential([\n",
        "    tf.keras.layers.Flatten(input_shape=(28,28)),\n",
        "    tf.keras.layers.Dense(128),\n",
        "    tf.keras.layers.Lambda(myRelu),\n",
        "    tf.keras.layers.Dense(10 , activation='softmax')\n",
        "])\n",
        "\n",
        "model_lambda_func.compile(optimizer = RMSprop() , loss = categorical_crossentropy , metrics = ['acc'])\n",
        "model_lambda_func.summary()\n",
        "model_lambda_func.fit(train_data , train_label , epochs=5)\n",
        "model_lambda_func.evaluate(test_data , test_label)"
      ],
      "metadata": {
        "colab": {
          "base_uri": "https://localhost:8080/"
        },
        "id": "DV4VV4zpDj_g",
        "outputId": "072d9714-ab92-40d4-f5dd-eb32342c3be4"
      },
      "execution_count": 9,
      "outputs": [
        {
          "output_type": "stream",
          "name": "stdout",
          "text": [
            "Model: \"sequential_1\"\n",
            "_________________________________________________________________\n",
            " Layer (type)                Output Shape              Param #   \n",
            "=================================================================\n",
            " flatten_1 (Flatten)         (None, 784)               0         \n",
            "                                                                 \n",
            " dense_2 (Dense)             (None, 128)               100480    \n",
            "                                                                 \n",
            " lambda_1 (Lambda)           (None, 128)               0         \n",
            "                                                                 \n",
            " dense_3 (Dense)             (None, 10)                1290      \n",
            "                                                                 \n",
            "=================================================================\n",
            "Total params: 101,770\n",
            "Trainable params: 101,770\n",
            "Non-trainable params: 0\n",
            "_________________________________________________________________\n",
            "Epoch 1/5\n",
            "1875/1875 [==============================] - 5s 3ms/step - loss: 0.2529 - acc: 0.9270\n",
            "Epoch 2/5\n",
            "1875/1875 [==============================] - 5s 3ms/step - loss: 0.1196 - acc: 0.9641\n",
            "Epoch 3/5\n",
            "1875/1875 [==============================] - 5s 2ms/step - loss: 0.0877 - acc: 0.9743\n",
            "Epoch 4/5\n",
            "1875/1875 [==============================] - 5s 2ms/step - loss: 0.0718 - acc: 0.9794\n",
            "Epoch 5/5\n",
            "1875/1875 [==============================] - 5s 2ms/step - loss: 0.0614 - acc: 0.9827\n",
            "313/313 [==============================] - 1s 2ms/step - loss: 0.0947 - acc: 0.9762\n"
          ]
        },
        {
          "output_type": "execute_result",
          "data": {
            "text/plain": [
              "[0.09465927630662918, 0.9761999845504761]"
            ]
          },
          "metadata": {},
          "execution_count": 9
        }
      ]
    },
    {
      "cell_type": "markdown",
      "source": [
        "## Custom Layer"
      ],
      "metadata": {
        "id": "OFuPtkskEN0_"
      }
    },
    {
      "cell_type": "code",
      "source": [
        "import numpy as np\n",
        "import tensorflow as tf\n",
        "print(\"Version of tensorflow is : \",tf.__version__)\n",
        "\n",
        "from tensorflow.keras.layers import Layer , Dense, Flatten , Lambda\n",
        "from tensorflow.keras.models import Sequential\n",
        "from tensorflow.keras.datasets import mnist\n",
        "from tensorflow.nn import softmax , relu\n",
        "from tensorflow.keras.losses import categorical_crossentropy\n",
        "from tensorflow.keras.optimizers import RMSprop\n",
        "import tensorflow.keras.backend as k"
      ],
      "metadata": {
        "colab": {
          "base_uri": "https://localhost:8080/"
        },
        "id": "AqVBJzhKIbfA",
        "outputId": "84cba2d9-6818-4841-857d-a305021ada9e"
      },
      "execution_count": 12,
      "outputs": [
        {
          "output_type": "stream",
          "name": "stdout",
          "text": [
            "Version of tensorflow is :  2.9.2\n"
          ]
        }
      ]
    },
    {
      "cell_type": "code",
      "source": [
        "class SimpleDense(tf.keras.layers.Layer):\n",
        "    def __init__(self , units = 32):\n",
        "        super(SimpleDense , self).__init__()\n",
        "        self.units = units\n",
        "\n",
        "    def build(self , input_shape):\n",
        "        w_init = tf.random_normal_initializer()\n",
        "        self.w = tf.Variable(name = \"kernal\" , \n",
        "                             initial_value = w_init(shape = (input_shape[-1], self.units),\n",
        "                                                    dtype=\"float32\"), \n",
        "                             trainable=True)\n",
        "        \n",
        "        b_init = tf.zeros_initializer()\n",
        "        self.b = tf.Variable(name = \"bias\",\n",
        "                             initial_value = b_init(shape = (self.units),\n",
        "                                                    dtype = \"float32\"),\n",
        "                             trainable=True)\n",
        "        \n",
        "    def call(self , inputs):\n",
        "        return tf.matmul(inputs, self.w) + self.b"
      ],
      "metadata": {
        "id": "BWMrzRHQD4Dg"
      },
      "execution_count": 19,
      "outputs": []
    },
    {
      "cell_type": "code",
      "source": [
        "model_dense = tf.keras.models.Sequential([\n",
        "    Flatten(input_shape=(28,28)),\n",
        "    Dense(128 , activation = relu),\n",
        "    Dense(10 , activation = softmax)\n",
        "])\n",
        "\n",
        "model_dense.compile(loss = categorical_crossentropy,\n",
        "                    optimizer = RMSprop(),\n",
        "                    metrics = ['acc'])\n",
        "\n",
        "model_dense.fit(train_data,\n",
        "                train_label,\n",
        "                epochs = 5)\n",
        "\n",
        "model_dense.evaluate(test_data,\n",
        "                     test_label)"
      ],
      "metadata": {
        "colab": {
          "base_uri": "https://localhost:8080/"
        },
        "id": "QHIfzPkdIHAj",
        "outputId": "c64e42af-8bb6-4ac9-ccd9-d86567d7c6b1"
      },
      "execution_count": 17,
      "outputs": [
        {
          "output_type": "stream",
          "name": "stdout",
          "text": [
            "Epoch 1/5\n",
            "1875/1875 [==============================] - 5s 3ms/step - loss: 0.2561 - acc: 0.9267\n",
            "Epoch 2/5\n",
            "1875/1875 [==============================] - 5s 2ms/step - loss: 0.1210 - acc: 0.9650\n",
            "Epoch 3/5\n",
            "1875/1875 [==============================] - 5s 3ms/step - loss: 0.0890 - acc: 0.9740\n",
            "Epoch 4/5\n",
            "1875/1875 [==============================] - 5s 3ms/step - loss: 0.0717 - acc: 0.9787\n",
            "Epoch 5/5\n",
            "1875/1875 [==============================] - 5s 3ms/step - loss: 0.0601 - acc: 0.9827\n",
            "313/313 [==============================] - 1s 2ms/step - loss: 0.0933 - acc: 0.9752\n"
          ]
        },
        {
          "output_type": "execute_result",
          "data": {
            "text/plain": [
              "[0.09333798289299011, 0.9751999974250793]"
            ]
          },
          "metadata": {},
          "execution_count": 17
        }
      ]
    },
    {
      "cell_type": "code",
      "source": [
        "model_simpledense = Sequential([\n",
        "    Flatten(input_shape=(28,28)),\n",
        "    SimpleDense(128),\n",
        "    Dense(10 , activation = softmax)\n",
        "])\n",
        "\n",
        "model_simpledense.compile(loss = categorical_crossentropy,\n",
        "                          optimizer = RMSprop(),\n",
        "                          metrics = ['acc'])\n",
        "\n",
        "model_simpledense.fit(train_data,\n",
        "                      train_label,\n",
        "                      epochs = 5)\n",
        "\n",
        "model_simpledense.evaluate(test_data,\n",
        "                           test_label)"
      ],
      "metadata": {
        "colab": {
          "base_uri": "https://localhost:8080/"
        },
        "id": "PzIhPMSqIlCh",
        "outputId": "20998650-912d-4308-cfae-7986a8e34c6e"
      },
      "execution_count": 20,
      "outputs": [
        {
          "output_type": "stream",
          "name": "stdout",
          "text": [
            "Epoch 1/5\n",
            "1875/1875 [==============================] - 5s 3ms/step - loss: 0.3629 - acc: 0.8963\n",
            "Epoch 2/5\n",
            "1875/1875 [==============================] - 5s 2ms/step - loss: 0.3064 - acc: 0.9163\n",
            "Epoch 3/5\n",
            "1875/1875 [==============================] - 5s 2ms/step - loss: 0.2950 - acc: 0.9190\n",
            "Epoch 4/5\n",
            "1875/1875 [==============================] - 5s 2ms/step - loss: 0.2886 - acc: 0.9211\n",
            "Epoch 5/5\n",
            "1875/1875 [==============================] - 5s 2ms/step - loss: 0.2851 - acc: 0.9236\n",
            "313/313 [==============================] - 1s 2ms/step - loss: 0.3027 - acc: 0.9160\n"
          ]
        },
        {
          "output_type": "execute_result",
          "data": {
            "text/plain": [
              "[0.3026714026927948, 0.9160000085830688]"
            ]
          },
          "metadata": {},
          "execution_count": 20
        }
      ]
    },
    {
      "cell_type": "code",
      "source": [
        "model_simpledense_lambda = Sequential([\n",
        "    Flatten(input_shape=(28,28)),\n",
        "    SimpleDense(128),\n",
        "    Lambda(lambda x : tf.abs(x)),\n",
        "    Dense(10 , activation = softmax)\n",
        "])\n",
        "\n",
        "model_simpledense_lambda.compile(loss = categorical_crossentropy,\n",
        "                                 optimizer = RMSprop(),\n",
        "                                 metrics = ['acc'])\n",
        "\n",
        "model_simpledense_lambda.fit(train_data,\n",
        "                             train_label,\n",
        "                             epochs = 5)\n",
        "\n",
        "model_simpledense_lambda.evaluate(test_data,\n",
        "                                  test_label)"
      ],
      "metadata": {
        "colab": {
          "base_uri": "https://localhost:8080/"
        },
        "id": "2mZp7qiBI3Uj",
        "outputId": "4579cea7-9d74-43ee-915b-4478e14ab872"
      },
      "execution_count": 15,
      "outputs": [
        {
          "output_type": "stream",
          "name": "stdout",
          "text": [
            "Epoch 1/5\n",
            "1875/1875 [==============================] - 5s 3ms/step - loss: 0.2150 - acc: 0.9386\n",
            "Epoch 2/5\n",
            "1875/1875 [==============================] - 5s 3ms/step - loss: 0.0914 - acc: 0.9734\n",
            "Epoch 3/5\n",
            "1875/1875 [==============================] - 5s 3ms/step - loss: 0.0677 - acc: 0.9800\n",
            "Epoch 4/5\n",
            "1875/1875 [==============================] - 5s 3ms/step - loss: 0.0532 - acc: 0.9843\n",
            "Epoch 5/5\n",
            "1875/1875 [==============================] - 5s 3ms/step - loss: 0.0411 - acc: 0.9879\n",
            "313/313 [==============================] - 1s 2ms/step - loss: 0.0879 - acc: 0.9759\n"
          ]
        },
        {
          "output_type": "execute_result",
          "data": {
            "text/plain": [
              "[0.0878540500998497, 0.9758999943733215]"
            ]
          },
          "metadata": {},
          "execution_count": 15
        }
      ]
    }
  ]
}