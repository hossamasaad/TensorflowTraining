{
  "cells": [
    {
      "cell_type": "markdown",
      "metadata": {
        "id": "xQXTf01IonYF"
      },
      "source": [
        "## Dataset"
      ]
    },
    {
      "cell_type": "code",
      "execution_count": 1,
      "metadata": {
        "colab": {
          "base_uri": "https://localhost:8080/"
        },
        "id": "tbvJDAoaom3U",
        "outputId": "f217d9b9-2217-43ca-9329-5a6440481d62"
      },
      "outputs": [
        {
          "name": "stdout",
          "output_type": "stream",
          "text": [
            "--2022-10-12 19:20:18--  https://storage.googleapis.com/tensorflow-1-public/course3/sarcasm.json\n",
            "Resolving storage.googleapis.com (storage.googleapis.com)... 142.251.12.128, 74.125.200.128, 74.125.68.128, ...\n",
            "Connecting to storage.googleapis.com (storage.googleapis.com)|142.251.12.128|:443... connected.\n",
            "HTTP request sent, awaiting response... 200 OK\n",
            "Length: 5643545 (5.4M) [application/json]\n",
            "Saving to: ‘sarcasm.json’\n",
            "\n",
            "sarcasm.json        100%[===================>]   5.38M  --.-KB/s    in 0.04s   \n",
            "\n",
            "2022-10-12 19:20:18 (138 MB/s) - ‘sarcasm.json’ saved [5643545/5643545]\n",
            "\n"
          ]
        }
      ],
      "source": [
        "# Download Data\n",
        "\n",
        "!wget https://storage.googleapis.com/tensorflow-1-public/course3/sarcasm.json"
      ]
    },
    {
      "cell_type": "code",
      "execution_count": 2,
      "metadata": {
        "id": "8E9n8rn2o_Ra"
      },
      "outputs": [],
      "source": [
        "# Parse Data\n",
        "import json\n",
        "\n",
        "with open(\"./sarcasm.json\", 'r') as f:\n",
        "    datastore = json.load(f)\n",
        "\n",
        "sentences = []\n",
        "labels = []\n",
        "\n",
        "# Collect sentences and labels into the lists\n",
        "for item in datastore:\n",
        "    sentences.append(item['headline'])\n",
        "    labels.append(item['is_sarcastic'])"
      ]
    },
    {
      "cell_type": "code",
      "execution_count": 7,
      "metadata": {
        "colab": {
          "base_uri": "https://localhost:8080/"
        },
        "id": "39OnBZ1JpdFy",
        "outputId": "d163a1ad-04f1-410e-e203-ef95b9656450"
      },
      "outputs": [
        {
          "name": "stdout",
          "output_type": "stream",
          "text": [
            "Number of Sentences:  26709\n",
            "Number of    Labels:  26709\n",
            "former versace store clerk sues over secret 'black code' for minority shoppers 0\n",
            "the 'roseanne' revival catches up to our thorny political mood, for better and worse 0\n",
            "mom starting to fear son's web series closest thing she will have to grandchild 1\n",
            "boehner just wants wife to listen, not come up with alternative debt-reduction ideas 1\n",
            "j.k. rowling wishes snape happy birthday in the most magical way 0\n"
          ]
        }
      ],
      "source": [
        "print('Number of Sentences: ', len(sentences))\n",
        "print('Number of    Labels: ', len(labels))\n",
        "\n",
        "\n",
        "for i in range(5):\n",
        "    print(sentences[i], labels[i])"
      ]
    },
    {
      "cell_type": "markdown",
      "metadata": {
        "id": "QWB9kiLKpUZp"
      },
      "source": [
        "## Hyperparameters"
      ]
    },
    {
      "cell_type": "code",
      "execution_count": 8,
      "metadata": {
        "id": "NeLPUhyvpH8j"
      },
      "outputs": [],
      "source": [
        "# Number of examples to use for training\n",
        "training_size = 20000\n",
        "\n",
        "# Vocabulary size of the tokenizer\n",
        "vocab_size = 10000\n",
        "\n",
        "# Maximum length of the padded sequences\n",
        "max_length = 32\n",
        "\n",
        "# Output dimensions of the Embedding layer\n",
        "embedding_dim = 16"
      ]
    },
    {
      "cell_type": "markdown",
      "metadata": {
        "id": "_80kmMrfql5n"
      },
      "source": [
        "## Split the dataset"
      ]
    },
    {
      "cell_type": "code",
      "execution_count": 10,
      "metadata": {
        "colab": {
          "base_uri": "https://localhost:8080/"
        },
        "id": "htJGZGqTqjll",
        "outputId": "c40b8e57-f2f5-482a-c765-7f6282626736"
      },
      "outputs": [
        {
          "name": "stdout",
          "output_type": "stream",
          "text": [
            "Training Size:  20000\n",
            " Testing Size:  6709\n"
          ]
        }
      ],
      "source": [
        "# Split the sentences\n",
        "training_sentences = sentences[0:training_size]\n",
        "testing_sentences = sentences[training_size:]\n",
        "\n",
        "# Split the labels\n",
        "training_labels = labels[0:training_size]\n",
        "testing_labels = labels[training_size:]\n",
        "\n",
        "print('Training Size: ', len(training_sentences))\n",
        "print(' Testing Size: ', len( testing_sentences))"
      ]
    },
    {
      "cell_type": "markdown",
      "metadata": {
        "id": "FhNKrQDgrPuu"
      },
      "source": [
        "## Preprocessing the train and test sets"
      ]
    },
    {
      "cell_type": "code",
      "execution_count": 11,
      "metadata": {
        "id": "fWP8-3VnrGB_"
      },
      "outputs": [],
      "source": [
        "import numpy as np\n",
        "from tensorflow.keras.preprocessing.text import Tokenizer\n",
        "from tensorflow.keras.preprocessing.sequence import pad_sequences\n",
        "\n",
        "# Parameters for padding and OOV tokens\n",
        "trunc_type='post'\n",
        "padding_type='post'\n",
        "oov_tok = \"<OOV>\""
      ]
    },
    {
      "cell_type": "markdown",
      "metadata": {
        "colab": {
          "base_uri": "https://localhost:8080/"
        },
        "id": "m0NF2ZIorZHj",
        "outputId": "9d82fffe-1791-41c3-9704-311874c5d7aa"
      },
      "source": [
        "# Initialize the Tokenizer class\n",
        "tokenizer = Tokenizer(num_words=vocab_size, oov_token=oov_tok)\n",
        "\n",
        "# Generate the word index dictionary\n",
        "tokenizer.fit_on_texts(training_sentences)\n",
        "word_index = tokenizer.word_index\n",
        "\n",
        "print(word_index[:10])"
      ]
    },
    {
      "cell_type": "code",
      "execution_count": 13,
      "metadata": {
        "id": "G2-N-NMQriew"
      },
      "outputs": [],
      "source": [
        "# Generate and pad the training sequences\n",
        "training_sequences = tokenizer.texts_to_sequences(training_sentences)\n",
        "training_padded = pad_sequences(training_sequences, maxlen=max_length, padding=padding_type, truncating=trunc_type)\n",
        "\n",
        "# Generate and pad the testing sequences\n",
        "testing_sequences = tokenizer.texts_to_sequences(testing_sentences)\n",
        "testing_padded = pad_sequences(testing_sequences, maxlen=max_length, padding=padding_type, truncating=trunc_type)\n",
        "\n",
        "# Convert the labels lists into numpy arrays\n",
        "training_labels = np.array(training_labels)\n",
        "testing_labels = np.array(testing_labels)"
      ]
    },
    {
      "cell_type": "markdown",
      "metadata": {
        "id": "0S8sMwE6r-os"
      },
      "source": [
        "## Build and Compile the Model"
      ]
    },
    {
      "cell_type": "code",
      "execution_count": 14,
      "metadata": {
        "colab": {
          "base_uri": "https://localhost:8080/"
        },
        "id": "F0tlBKQer5IH",
        "outputId": "c8038c82-ea28-48ea-e7fd-973ddfe7fa13"
      },
      "outputs": [
        {
          "name": "stdout",
          "output_type": "stream",
          "text": [
            "shape of sample_array = (1, 3, 2)\n",
            "sample array: [[[10  2]\n",
            "  [ 1  3]\n",
            "  [ 1  1]]]\n"
          ]
        }
      ],
      "source": [
        "import tensorflow as tf\n",
        "\n",
        "# Initialize a GlobalAveragePooling1D (GAP1D) layer\n",
        "gap1d_layer = tf.keras.layers.GlobalAveragePooling1D()\n",
        "\n",
        "# Define sample array\n",
        "sample_array = np.array([[[10,2],\n",
        "                          [1,3],\n",
        "                          [1,1]]])\n",
        "\n",
        "# Print shape and contents of sample array\n",
        "print(f'shape of sample_array = {sample_array.shape}')\n",
        "print(f'sample array: {sample_array}')"
      ]
    },
    {
      "cell_type": "code",
      "execution_count": 15,
      "metadata": {
        "colab": {
          "base_uri": "https://localhost:8080/"
        },
        "id": "0CtLn3ZYsLUT",
        "outputId": "255e3c70-17c4-4c38-e8bd-4a5f445934f4"
      },
      "outputs": [
        {
          "name": "stdout",
          "output_type": "stream",
          "text": [
            "output shape of gap1d_layer: (1, 2)\n",
            "output array of gap1d_layer: [[4 2]]\n"
          ]
        }
      ],
      "source": [
        "# Pass the sample array to the GAP1D layer\n",
        "output = gap1d_layer(sample_array)\n",
        "\n",
        "# Print shape and contents of the GAP1D output array\n",
        "print(f'output shape of gap1d_layer: {output.shape}')\n",
        "print(f'output array of gap1d_layer: {output.numpy()}')"
      ]
    },
    {
      "cell_type": "code",
      "execution_count": 16,
      "metadata": {
        "colab": {
          "base_uri": "https://localhost:8080/"
        },
        "id": "X4Ub-VyCsVDc",
        "outputId": "0976f518-54b6-4e9e-c193-dc158f926dcd"
      },
      "outputs": [
        {
          "name": "stdout",
          "output_type": "stream",
          "text": [
            "Model: \"sequential\"\n",
            "_________________________________________________________________\n",
            " Layer (type)                Output Shape              Param #   \n",
            "=================================================================\n",
            " embedding (Embedding)       (None, 32, 16)            160000    \n",
            "                                                                 \n",
            " global_average_pooling1d_1   (None, 16)               0         \n",
            " (GlobalAveragePooling1D)                                        \n",
            "                                                                 \n",
            " dense (Dense)               (None, 24)                408       \n",
            "                                                                 \n",
            " dense_1 (Dense)             (None, 1)                 25        \n",
            "                                                                 \n",
            "=================================================================\n",
            "Total params: 160,433\n",
            "Trainable params: 160,433\n",
            "Non-trainable params: 0\n",
            "_________________________________________________________________\n"
          ]
        }
      ],
      "source": [
        "# Build the model\n",
        "model = tf.keras.Sequential([\n",
        "    tf.keras.layers.Embedding(vocab_size, embedding_dim, input_length=max_length),\n",
        "    tf.keras.layers.GlobalAveragePooling1D(),\n",
        "    tf.keras.layers.Dense(24, activation='relu'),\n",
        "    tf.keras.layers.Dense(1, activation='sigmoid')\n",
        "])\n",
        "\n",
        "# Print the model summary\n",
        "model.summary()"
      ]
    },
    {
      "cell_type": "code",
      "execution_count": 17,
      "metadata": {
        "id": "HUMlCE4rsxOG"
      },
      "outputs": [],
      "source": [
        "# Compile the model\n",
        "model.compile(loss='binary_crossentropy',\n",
        "              optimizer='adam',\n",
        "              metrics=['accuracy'])"
      ]
    },
    {
      "cell_type": "markdown",
      "metadata": {
        "id": "3hUyDR0us87J"
      },
      "source": [
        "## Train the Model"
      ]
    },
    {
      "cell_type": "code",
      "execution_count": 18,
      "metadata": {
        "colab": {
          "base_uri": "https://localhost:8080/"
        },
        "id": "5NyHOXXEs4zd",
        "outputId": "d9b4ca91-4a84-4889-9e02-b5bc037d7c26"
      },
      "outputs": [
        {
          "name": "stdout",
          "output_type": "stream",
          "text": [
            "Epoch 1/30\n",
            "625/625 [==============================] - 4s 4ms/step - loss: 0.5767 - accuracy: 0.6824 - val_loss: 0.4025 - val_accuracy: 0.8363\n",
            "Epoch 2/30\n",
            "625/625 [==============================] - 2s 4ms/step - loss: 0.3133 - accuracy: 0.8723 - val_loss: 0.3456 - val_accuracy: 0.8553\n",
            "Epoch 3/30\n",
            "625/625 [==============================] - 2s 4ms/step - loss: 0.2338 - accuracy: 0.9080 - val_loss: 0.3497 - val_accuracy: 0.8471\n",
            "Epoch 4/30\n",
            "625/625 [==============================] - 3s 4ms/step - loss: 0.1872 - accuracy: 0.9293 - val_loss: 0.3660 - val_accuracy: 0.8545\n",
            "Epoch 5/30\n",
            "625/625 [==============================] - 2s 4ms/step - loss: 0.1556 - accuracy: 0.9437 - val_loss: 0.3983 - val_accuracy: 0.8468\n",
            "Epoch 6/30\n",
            "625/625 [==============================] - 2s 4ms/step - loss: 0.1307 - accuracy: 0.9533 - val_loss: 0.4345 - val_accuracy: 0.8423\n",
            "Epoch 7/30\n",
            "625/625 [==============================] - 2s 4ms/step - loss: 0.1116 - accuracy: 0.9612 - val_loss: 0.4692 - val_accuracy: 0.8450\n",
            "Epoch 8/30\n",
            "625/625 [==============================] - 2s 4ms/step - loss: 0.0968 - accuracy: 0.9682 - val_loss: 0.5151 - val_accuracy: 0.8389\n",
            "Epoch 9/30\n",
            "625/625 [==============================] - 2s 4ms/step - loss: 0.0844 - accuracy: 0.9719 - val_loss: 0.5649 - val_accuracy: 0.8375\n",
            "Epoch 10/30\n",
            "625/625 [==============================] - 3s 4ms/step - loss: 0.0740 - accuracy: 0.9758 - val_loss: 0.6156 - val_accuracy: 0.8323\n",
            "Epoch 11/30\n",
            "625/625 [==============================] - 3s 4ms/step - loss: 0.0633 - accuracy: 0.9806 - val_loss: 0.6807 - val_accuracy: 0.8259\n",
            "Epoch 12/30\n",
            "625/625 [==============================] - 2s 4ms/step - loss: 0.0543 - accuracy: 0.9833 - val_loss: 0.7285 - val_accuracy: 0.8235\n",
            "Epoch 13/30\n",
            "625/625 [==============================] - 2s 4ms/step - loss: 0.0470 - accuracy: 0.9871 - val_loss: 0.7911 - val_accuracy: 0.8225\n",
            "Epoch 14/30\n",
            "625/625 [==============================] - 2s 4ms/step - loss: 0.0424 - accuracy: 0.9863 - val_loss: 0.8494 - val_accuracy: 0.8202\n",
            "Epoch 15/30\n",
            "625/625 [==============================] - 2s 4ms/step - loss: 0.0363 - accuracy: 0.9897 - val_loss: 0.9234 - val_accuracy: 0.8164\n",
            "Epoch 16/30\n",
            "625/625 [==============================] - 2s 4ms/step - loss: 0.0317 - accuracy: 0.9915 - val_loss: 0.9830 - val_accuracy: 0.8141\n",
            "Epoch 17/30\n",
            "625/625 [==============================] - 2s 4ms/step - loss: 0.0289 - accuracy: 0.9916 - val_loss: 1.0457 - val_accuracy: 0.8103\n",
            "Epoch 18/30\n",
            "625/625 [==============================] - 3s 4ms/step - loss: 0.0264 - accuracy: 0.9923 - val_loss: 1.1571 - val_accuracy: 0.8123\n",
            "Epoch 19/30\n",
            "625/625 [==============================] - 2s 4ms/step - loss: 0.0222 - accuracy: 0.9934 - val_loss: 1.1829 - val_accuracy: 0.8122\n",
            "Epoch 20/30\n",
            "625/625 [==============================] - 2s 4ms/step - loss: 0.0201 - accuracy: 0.9948 - val_loss: 1.2807 - val_accuracy: 0.8089\n",
            "Epoch 21/30\n",
            "625/625 [==============================] - 2s 4ms/step - loss: 0.0176 - accuracy: 0.9955 - val_loss: 1.3561 - val_accuracy: 0.8097\n",
            "Epoch 22/30\n",
            "625/625 [==============================] - 3s 4ms/step - loss: 0.0159 - accuracy: 0.9952 - val_loss: 1.3770 - val_accuracy: 0.8091\n",
            "Epoch 23/30\n",
            "625/625 [==============================] - 2s 4ms/step - loss: 0.0141 - accuracy: 0.9962 - val_loss: 1.4464 - val_accuracy: 0.8088\n",
            "Epoch 24/30\n",
            "625/625 [==============================] - 3s 4ms/step - loss: 0.0134 - accuracy: 0.9966 - val_loss: 1.4969 - val_accuracy: 0.8035\n",
            "Epoch 25/30\n",
            "625/625 [==============================] - 3s 5ms/step - loss: 0.0140 - accuracy: 0.9961 - val_loss: 1.6332 - val_accuracy: 0.8056\n",
            "Epoch 26/30\n",
            "625/625 [==============================] - 5s 8ms/step - loss: 0.0109 - accuracy: 0.9974 - val_loss: 1.6397 - val_accuracy: 0.8043\n",
            "Epoch 27/30\n",
            "625/625 [==============================] - 4s 7ms/step - loss: 0.0104 - accuracy: 0.9972 - val_loss: 1.7038 - val_accuracy: 0.8034\n",
            "Epoch 28/30\n",
            "625/625 [==============================] - 5s 7ms/step - loss: 0.0093 - accuracy: 0.9974 - val_loss: 1.7555 - val_accuracy: 0.8043\n",
            "Epoch 29/30\n",
            "625/625 [==============================] - 4s 7ms/step - loss: 0.0095 - accuracy: 0.9973 - val_loss: 1.8126 - val_accuracy: 0.8034\n",
            "Epoch 30/30\n",
            "625/625 [==============================] - 4s 6ms/step - loss: 0.0075 - accuracy: 0.9981 - val_loss: 1.8162 - val_accuracy: 0.8028\n"
          ]
        }
      ],
      "source": [
        "history = model.fit(training_padded,\n",
        "                    training_labels,\n",
        "                    epochs=30,\n",
        "                    validation_data=(testing_padded, testing_labels),\n",
        "                    verbose=1)"
      ]
    },
    {
      "cell_type": "code",
      "execution_count": 19,
      "metadata": {
        "colab": {
          "base_uri": "https://localhost:8080/",
          "height": 541
        },
        "id": "RHtmPFTvtGRT",
        "outputId": "c5ec59e0-d33a-4596-9f6c-2d4df8d433ee"
      },
      "outputs": [
        {
          "data": {
            "image/png": "[encoded data removed]",
            "text/plain": [
              "<Figure size 432x288 with 1 Axes>"
            ]
          },
          "metadata": {
            "needs_background": "light"
          },
          "output_type": "display_data"
        },
        {
          "data": {
            "image/png": "[encoded data removed]",
            "text/plain": [
              "<Figure size 432x288 with 1 Axes>"
            ]
          },
          "metadata": {
            "needs_background": "light"
          },
          "output_type": "display_data"
        }
      ],
      "source": [
        "import matplotlib.pyplot as plt\n",
        "\n",
        "# Plot utility\n",
        "def plot_graphs(history, string):\n",
        "    plt.plot(history.history[string])\n",
        "    plt.plot(history.history['val_' + string])\n",
        "    plt.xlabel(\"Epochs\")\n",
        "    plt.ylabel(string)\n",
        "    plt.legend([string, 'val_'+string])\n",
        "    plt.show()\n",
        "\n",
        "# Plot the accuracy and loss\n",
        "plot_graphs(history, \"accuracy\")\n",
        "plot_graphs(history, \"loss\")"
      ]
    }
  ],
  "metadata": {
    "accelerator": "GPU",
    "colab": {
      "provenance": []
    },
    "kernelspec": {
      "display_name": "Python 3",
      "name": "python3"
    },
    "language_info": {
      "name": "python"
    }
  },
  "nbformat": 4,
  "nbformat_minor": 0
}
