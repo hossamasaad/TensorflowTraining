{
  "nbformat": 4,
  "nbformat_minor": 0,
  "metadata": {
    "colab": {
      "provenance": []
    },
    "kernelspec": {
      "name": "python3",
      "display_name": "Python 3"
    },
    "language_info": {
      "name": "python"
    },
    "accelerator": "GPU",
    "widgets": {
      "application/vnd.jupyter.widget-state+json": {
        "f20909c7488f4468901cfc4a6a341bab": {
          "model_module": "@jupyter-widgets/controls",
          "model_name": "HBoxModel",
          "model_module_version": "1.5.0",
          "state": {
            "_dom_classes": [],
            "_model_module": "@jupyter-widgets/controls",
            "_model_module_version": "1.5.0",
            "_model_name": "HBoxModel",
            "_view_count": null,
            "_view_module": "@jupyter-widgets/controls",
            "_view_module_version": "1.5.0",
            "_view_name": "HBoxView",
            "box_style": "",
            "children": [
              "IPY_MODEL_1f8bca5fd16948348b5fc1b148656e2f",
              "IPY_MODEL_186b655d29d34edc9fe8e6e24a1136b3",
              "IPY_MODEL_9096862788fc449e9fcf96384606101c"
            ],
            "layout": "IPY_MODEL_485739f896914814a81ec687d5bd7e4b"
          }
        },
        "1f8bca5fd16948348b5fc1b148656e2f": {
          "model_module": "@jupyter-widgets/controls",
          "model_name": "HTMLModel",
          "model_module_version": "1.5.0",
          "state": {
            "_dom_classes": [],
            "_model_module": "@jupyter-widgets/controls",
            "_model_module_version": "1.5.0",
            "_model_name": "HTMLModel",
            "_view_count": null,
            "_view_module": "@jupyter-widgets/controls",
            "_view_module_version": "1.5.0",
            "_view_name": "HTMLView",
            "description": "",
            "description_tooltip": null,
            "layout": "IPY_MODEL_2efb8d72ca394d3bbac8143b1e02e2f3",
            "placeholder": "​",
            "style": "IPY_MODEL_4c03893786264f369fe96735a11e4c47",
            "value": "Dl Completed...: 100%"
          }
        },
        "186b655d29d34edc9fe8e6e24a1136b3": {
          "model_module": "@jupyter-widgets/controls",
          "model_name": "FloatProgressModel",
          "model_module_version": "1.5.0",
          "state": {
            "_dom_classes": [],
            "_model_module": "@jupyter-widgets/controls",
            "_model_module_version": "1.5.0",
            "_model_name": "FloatProgressModel",
            "_view_count": null,
            "_view_module": "@jupyter-widgets/controls",
            "_view_module_version": "1.5.0",
            "_view_name": "ProgressView",
            "bar_style": "success",
            "description": "",
            "description_tooltip": null,
            "layout": "IPY_MODEL_a19f3a16034144018dcf6700eb292f9a",
            "max": 4,
            "min": 0,
            "orientation": "horizontal",
            "style": "IPY_MODEL_0a6d8ae4c8f844a3a54f6013394633f3",
            "value": 4
          }
        },
        "9096862788fc449e9fcf96384606101c": {
          "model_module": "@jupyter-widgets/controls",
          "model_name": "HTMLModel",
          "model_module_version": "1.5.0",
          "state": {
            "_dom_classes": [],
            "_model_module": "@jupyter-widgets/controls",
            "_model_module_version": "1.5.0",
            "_model_name": "HTMLModel",
            "_view_count": null,
            "_view_module": "@jupyter-widgets/controls",
            "_view_module_version": "1.5.0",
            "_view_name": "HTMLView",
            "description": "",
            "description_tooltip": null,
            "layout": "IPY_MODEL_dbe18d9cdc6b41b48bd7918c25c61ef7",
            "placeholder": "​",
            "style": "IPY_MODEL_0699720752f24df09de0091b098f89d1",
            "value": " 4/4 [00:00&lt;00:00,  7.94 file/s]"
          }
        },
        "485739f896914814a81ec687d5bd7e4b": {
          "model_module": "@jupyter-widgets/base",
          "model_name": "LayoutModel",
          "model_module_version": "1.2.0",
          "state": {
            "_model_module": "@jupyter-widgets/base",
            "_model_module_version": "1.2.0",
            "_model_name": "LayoutModel",
            "_view_count": null,
            "_view_module": "@jupyter-widgets/base",
            "_view_module_version": "1.2.0",
            "_view_name": "LayoutView",
            "align_content": null,
            "align_items": null,
            "align_self": null,
            "border": null,
            "bottom": null,
            "display": null,
            "flex": null,
            "flex_flow": null,
            "grid_area": null,
            "grid_auto_columns": null,
            "grid_auto_flow": null,
            "grid_auto_rows": null,
            "grid_column": null,
            "grid_gap": null,
            "grid_row": null,
            "grid_template_areas": null,
            "grid_template_columns": null,
            "grid_template_rows": null,
            "height": null,
            "justify_content": null,
            "justify_items": null,
            "left": null,
            "margin": null,
            "max_height": null,
            "max_width": null,
            "min_height": null,
            "min_width": null,
            "object_fit": null,
            "object_position": null,
            "order": null,
            "overflow": null,
            "overflow_x": null,
            "overflow_y": null,
            "padding": null,
            "right": null,
            "top": null,
            "visibility": null,
            "width": null
          }
        },
        "2efb8d72ca394d3bbac8143b1e02e2f3": {
          "model_module": "@jupyter-widgets/base",
          "model_name": "LayoutModel",
          "model_module_version": "1.2.0",
          "state": {
            "_model_module": "@jupyter-widgets/base",
            "_model_module_version": "1.2.0",
            "_model_name": "LayoutModel",
            "_view_count": null,
            "_view_module": "@jupyter-widgets/base",
            "_view_module_version": "1.2.0",
            "_view_name": "LayoutView",
            "align_content": null,
            "align_items": null,
            "align_self": null,
            "border": null,
            "bottom": null,
            "display": null,
            "flex": null,
            "flex_flow": null,
            "grid_area": null,
            "grid_auto_columns": null,
            "grid_auto_flow": null,
            "grid_auto_rows": null,
            "grid_column": null,
            "grid_gap": null,
            "grid_row": null,
            "grid_template_areas": null,
            "grid_template_columns": null,
            "grid_template_rows": null,
            "height": null,
            "justify_content": null,
            "justify_items": null,
            "left": null,
            "margin": null,
            "max_height": null,
            "max_width": null,
            "min_height": null,
            "min_width": null,
            "object_fit": null,
            "object_position": null,
            "order": null,
            "overflow": null,
            "overflow_x": null,
            "overflow_y": null,
            "padding": null,
            "right": null,
            "top": null,
            "visibility": null,
            "width": null
          }
        },
        "4c03893786264f369fe96735a11e4c47": {
          "model_module": "@jupyter-widgets/controls",
          "model_name": "DescriptionStyleModel",
          "model_module_version": "1.5.0",
          "state": {
            "_model_module": "@jupyter-widgets/controls",
            "_model_module_version": "1.5.0",
            "_model_name": "DescriptionStyleModel",
            "_view_count": null,
            "_view_module": "@jupyter-widgets/base",
            "_view_module_version": "1.2.0",
            "_view_name": "StyleView",
            "description_width": ""
          }
        },
        "a19f3a16034144018dcf6700eb292f9a": {
          "model_module": "@jupyter-widgets/base",
          "model_name": "LayoutModel",
          "model_module_version": "1.2.0",
          "state": {
            "_model_module": "@jupyter-widgets/base",
            "_model_module_version": "1.2.0",
            "_model_name": "LayoutModel",
            "_view_count": null,
            "_view_module": "@jupyter-widgets/base",
            "_view_module_version": "1.2.0",
            "_view_name": "LayoutView",
            "align_content": null,
            "align_items": null,
            "align_self": null,
            "border": null,
            "bottom": null,
            "display": null,
            "flex": null,
            "flex_flow": null,
            "grid_area": null,
            "grid_auto_columns": null,
            "grid_auto_flow": null,
            "grid_auto_rows": null,
            "grid_column": null,
            "grid_gap": null,
            "grid_row": null,
            "grid_template_areas": null,
            "grid_template_columns": null,
            "grid_template_rows": null,
            "height": null,
            "justify_content": null,
            "justify_items": null,
            "left": null,
            "margin": null,
            "max_height": null,
            "max_width": null,
            "min_height": null,
            "min_width": null,
            "object_fit": null,
            "object_position": null,
            "order": null,
            "overflow": null,
            "overflow_x": null,
            "overflow_y": null,
            "padding": null,
            "right": null,
            "top": null,
            "visibility": null,
            "width": null
          }
        },
        "0a6d8ae4c8f844a3a54f6013394633f3": {
          "model_module": "@jupyter-widgets/controls",
          "model_name": "ProgressStyleModel",
          "model_module_version": "1.5.0",
          "state": {
            "_model_module": "@jupyter-widgets/controls",
            "_model_module_version": "1.5.0",
            "_model_name": "ProgressStyleModel",
            "_view_count": null,
            "_view_module": "@jupyter-widgets/base",
            "_view_module_version": "1.2.0",
            "_view_name": "StyleView",
            "bar_color": null,
            "description_width": ""
          }
        },
        "dbe18d9cdc6b41b48bd7918c25c61ef7": {
          "model_module": "@jupyter-widgets/base",
          "model_name": "LayoutModel",
          "model_module_version": "1.2.0",
          "state": {
            "_model_module": "@jupyter-widgets/base",
            "_model_module_version": "1.2.0",
            "_model_name": "LayoutModel",
            "_view_count": null,
            "_view_module": "@jupyter-widgets/base",
            "_view_module_version": "1.2.0",
            "_view_name": "LayoutView",
            "align_content": null,
            "align_items": null,
            "align_self": null,
            "border": null,
            "bottom": null,
            "display": null,
            "flex": null,
            "flex_flow": null,
            "grid_area": null,
            "grid_auto_columns": null,
            "grid_auto_flow": null,
            "grid_auto_rows": null,
            "grid_column": null,
            "grid_gap": null,
            "grid_row": null,
            "grid_template_areas": null,
            "grid_template_columns": null,
            "grid_template_rows": null,
            "height": null,
            "justify_content": null,
            "justify_items": null,
            "left": null,
            "margin": null,
            "max_height": null,
            "max_width": null,
            "min_height": null,
            "min_width": null,
            "object_fit": null,
            "object_position": null,
            "order": null,
            "overflow": null,
            "overflow_x": null,
            "overflow_y": null,
            "padding": null,
            "right": null,
            "top": null,
            "visibility": null,
            "width": null
          }
        },
        "0699720752f24df09de0091b098f89d1": {
          "model_module": "@jupyter-widgets/controls",
          "model_name": "DescriptionStyleModel",
          "model_module_version": "1.5.0",
          "state": {
            "_model_module": "@jupyter-widgets/controls",
            "_model_module_version": "1.5.0",
            "_model_name": "DescriptionStyleModel",
            "_view_count": null,
            "_view_module": "@jupyter-widgets/base",
            "_view_module_version": "1.2.0",
            "_view_name": "StyleView",
            "description_width": ""
          }
        }
      }
    }
  },
  "cells": [
    {
      "cell_type": "code",
      "source": [
        "import tensorflow as tf\n",
        "import tensorflow_datasets as tfds\n",
        "from tensorflow.keras import Model\n",
        "from tensorflow.keras.layers import  Activation , Conv2D , BatchNormalization , Add , MaxPool2D , GlobalAveragePooling2D , Dense\n",
        "print(\"Version of tensorflow is : \",tf.__version__)\n",
        "from tensorflow.python.keras.utils.vis_utils import plot_model"
      ],
      "metadata": {
        "colab": {
          "base_uri": "https://localhost:8080/"
        },
        "id": "nH_kElUbMzTV",
        "outputId": "a9d61d38-b850-481c-a9ad-d46a49d7c7d9"
      },
      "execution_count": 1,
      "outputs": [
        {
          "output_type": "stream",
          "name": "stdout",
          "text": [
            "Version of tensorflow is :  2.9.2\n"
          ]
        }
      ]
    },
    {
      "cell_type": "code",
      "source": [
        "class IdentityBlock(Model):\n",
        "    def __init__(self, filters, kernal_size):\n",
        "        super(IdentityBlock, self ).__init__(name = '')\n",
        "        self.conv = Conv2D(filters, kernal_size, padding='same')\n",
        "        self.norm = BatchNormalization()\n",
        "        self.act  = Activation('relu')\n",
        "        self.add  = Add()\n",
        "\n",
        "    def call(self , input):\n",
        "        x = self.conv(input)\n",
        "        x = self.norm(x)\n",
        "        x = self.act(x)\n",
        "\n",
        "        x = self.conv(x)\n",
        "        x = self.norm(x)\n",
        "\n",
        "        x = self.add([x , input])\n",
        "        x = self.act(x)\n",
        "        return x"
      ],
      "metadata": {
        "id": "S4rUx0q7M38s"
      },
      "execution_count": 15,
      "outputs": []
    },
    {
      "cell_type": "code",
      "source": [
        "class Resnet(Model):\n",
        "    def __init__(self, num_classes, activation = 'softmax'):\n",
        "        super(Resnet, self).__init__(name = \"\")\n",
        "        self.conv7 = Conv2D(64, 7, padding='same')\n",
        "        self.norm  = BatchNormalization()\n",
        "        self.pool  = MaxPool2D((3,3))\n",
        "        self.idbl1 = IdentityBlock(64, 3)\n",
        "        self.idbl2 = IdentityBlock(64, 3)\n",
        "        self.gpool = GlobalAveragePooling2D()\n",
        "        self.claasifier = Dense(num_classes, activation = tf.keras.activations.get(activation))\n",
        "\n",
        "    def call(self , input):\n",
        "        x = self.conv7(input)\n",
        "        x = self.norm(x)\n",
        "        x = self.pool(x)\n",
        "        x = self.idbl1(x)\n",
        "        x = self.idbl2(x)\n",
        "        x = self.gpool(x)\n",
        "        x = self.claasifier(x)\n",
        "\n",
        "        return x"
      ],
      "metadata": {
        "id": "lkKuSHk6PDjw"
      },
      "execution_count": 16,
      "outputs": []
    },
    {
      "cell_type": "code",
      "source": [
        "resnet_model = Resnet(10)\n",
        "\n",
        "resnet_model.compile(optimizer='adam',\n",
        "                     loss = tf.keras.losses.sparse_categorical_crossentropy,\n",
        "                     metrics=['acc'])"
      ],
      "metadata": {
        "id": "tcXikTJ7SgUC"
      },
      "execution_count": 17,
      "outputs": []
    },
    {
      "cell_type": "code",
      "source": [
        "def preprocess(f):\n",
        "    return tf.cast(f['image'] , 'float32') / 255.0  , f[\"label\"]\n",
        "\n",
        "dataset = tfds.load(name='mnist' , split=tfds.Split.TRAIN)\n",
        "dataset = dataset.map(preprocess).batch(32)"
      ],
      "metadata": {
        "colab": {
          "base_uri": "https://localhost:8080/",
          "height": 104,
          "referenced_widgets": [
            "f20909c7488f4468901cfc4a6a341bab",
            "1f8bca5fd16948348b5fc1b148656e2f",
            "186b655d29d34edc9fe8e6e24a1136b3",
            "9096862788fc449e9fcf96384606101c",
            "485739f896914814a81ec687d5bd7e4b",
            "2efb8d72ca394d3bbac8143b1e02e2f3",
            "4c03893786264f369fe96735a11e4c47",
            "a19f3a16034144018dcf6700eb292f9a",
            "0a6d8ae4c8f844a3a54f6013394633f3",
            "dbe18d9cdc6b41b48bd7918c25c61ef7",
            "0699720752f24df09de0091b098f89d1"
          ]
        },
        "id": "081b4jzXSnvT",
        "outputId": "c4b17111-bdcb-49ad-f511-45c7182d1714"
      },
      "execution_count": 18,
      "outputs": [
        {
          "output_type": "stream",
          "name": "stdout",
          "text": [
            "\u001b[1mDownloading and preparing dataset 11.06 MiB (download: 11.06 MiB, generated: 21.00 MiB, total: 32.06 MiB) to ~/tensorflow_datasets/mnist/3.0.1...\u001b[0m\n"
          ]
        },
        {
          "output_type": "display_data",
          "data": {
            "text/plain": [
              "Dl Completed...:   0%|          | 0/4 [00:00<?, ? file/s]"
            ],
            "application/vnd.jupyter.widget-view+json": {
              "version_major": 2,
              "version_minor": 0,
              "model_id": "f20909c7488f4468901cfc4a6a341bab"
            }
          },
          "metadata": {}
        },
        {
          "output_type": "stream",
          "name": "stdout",
          "text": [
            "\u001b[1mDataset mnist downloaded and prepared to ~/tensorflow_datasets/mnist/3.0.1. Subsequent calls will reuse this data.\u001b[0m\n"
          ]
        }
      ]
    },
    {
      "cell_type": "code",
      "source": [
        "history = resnet_model.fit(dataset,\n",
        "                           epochs=3)"
      ],
      "metadata": {
        "colab": {
          "base_uri": "https://localhost:8080/"
        },
        "id": "GoH1kfIjUNKg",
        "outputId": "d95d9a49-66c3-4c21-c286-57d490334fd3"
      },
      "execution_count": 19,
      "outputs": [
        {
          "output_type": "stream",
          "name": "stdout",
          "text": [
            "Epoch 1/3\n",
            "1875/1875 [==============================] - 23s 7ms/step - loss: 0.1638 - acc: 0.9577\n",
            "Epoch 2/3\n",
            "1875/1875 [==============================] - 11s 6ms/step - loss: 0.0557 - acc: 0.9840\n",
            "Epoch 3/3\n",
            "1875/1875 [==============================] - 11s 6ms/step - loss: 0.0399 - acc: 0.9882\n"
          ]
        }
      ]
    },
    {
      "cell_type": "code",
      "source": [
        "dataset_test = tfds.load(name='mnist' , split=tfds.Split.TEST)\n",
        "dataset_test = dataset_test.map(preprocess).batch(32)"
      ],
      "metadata": {
        "id": "cbKFabHkUZCv"
      },
      "execution_count": 20,
      "outputs": []
    },
    {
      "cell_type": "code",
      "source": [
        "resnet_model.evaluate(dataset_test)"
      ],
      "metadata": {
        "colab": {
          "base_uri": "https://localhost:8080/"
        },
        "id": "-qloYE51UkoO",
        "outputId": "8ecc8bd9-15ed-40c1-cd10-ccefdd8997ef"
      },
      "execution_count": 21,
      "outputs": [
        {
          "output_type": "stream",
          "name": "stdout",
          "text": [
            "313/313 [==============================] - 2s 6ms/step - loss: 0.4510 - acc: 0.8401\n"
          ]
        },
        {
          "output_type": "execute_result",
          "data": {
            "text/plain": [
              "[0.45097553730010986, 0.8400999903678894]"
            ]
          },
          "metadata": {},
          "execution_count": 21
        }
      ]
    }
  ]
}