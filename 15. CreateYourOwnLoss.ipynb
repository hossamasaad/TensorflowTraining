{
  "nbformat": 4,
  "nbformat_minor": 0,
  "metadata": {
    "colab": {
      "provenance": []
    },
    "kernelspec": {
      "name": "python3",
      "display_name": "Python 3"
    },
    "language_info": {
      "name": "python"
    },
    "accelerator": "GPU"
  },
  "cells": [
    {
      "cell_type": "code",
      "source": [
        "import numpy as np\n",
        "import tensorflow as tf\n",
        "from tensorflow.keras.layers import Dense , Input\n",
        "from tensorflow.keras.losses import Loss"
      ],
      "metadata": {
        "id": "Ij5PUEV25v3F"
      },
      "execution_count": 1,
      "outputs": []
    },
    {
      "cell_type": "code",
      "source": [
        "xs = np.arange(-5,5,1).astype('float32')\n",
        "ys = xs * 2 - 1"
      ],
      "metadata": {
        "id": "iCSMdiAc5zGf"
      },
      "execution_count": 2,
      "outputs": []
    },
    {
      "cell_type": "code",
      "source": [
        "print(xs.shape)\n",
        "print(ys.shape)"
      ],
      "metadata": {
        "colab": {
          "base_uri": "https://localhost:8080/"
        },
        "id": "1SkP1pmc53og",
        "outputId": "3d16ece7-8cf3-45a2-cf64-958cef2e4a97"
      },
      "execution_count": 3,
      "outputs": [
        {
          "output_type": "stream",
          "name": "stdout",
          "text": [
            "(10,)\n",
            "(10,)\n"
          ]
        }
      ]
    },
    {
      "cell_type": "markdown",
      "source": [
        "## huber loss function without wrapper\n",
        "In that case we can not pass any type of parameter to the function, thresold is the most important parameter in that type of loss function , so we need to tune this."
      ],
      "metadata": {
        "id": "iGmhpkmp6hJn"
      }
    },
    {
      "cell_type": "code",
      "source": [
        "def huber_loss(y_true , y_pred):\n",
        "    thresold = 1\n",
        "    error = y_true - y_pred\n",
        "    return_type = tf.abs(error) <= thresold\n",
        "    r1 = 0.5 * tf.square(error)\n",
        "    r2 = thresold * ( tf.abs(error) - (0.5*thresold) )\n",
        "    return tf.where(return_type , r1 , r2)"
      ],
      "metadata": {
        "id": "pRbHuGEc59xm"
      },
      "execution_count": 4,
      "outputs": []
    },
    {
      "cell_type": "code",
      "source": [
        "input = Input(shape=(1,) , name=\"input_layer\")\n",
        "output_layer = Dense(1 , name=\"output_layer\")(input)\n",
        "\n",
        "model = tf.keras.models.Model(inputs=input,\n",
        "                              outputs=output_layer)\n",
        "\n",
        "model.compile(optimizer=\"sgd\",\n",
        "              loss=huber_loss)\n",
        "\n",
        "model.fit(xs,\n",
        "          ys,\n",
        "          epochs=500,\n",
        "          verbose=0)\n",
        "\n",
        "model.predict([[10.0]])"
      ],
      "metadata": {
        "colab": {
          "base_uri": "https://localhost:8080/"
        },
        "id": "zk3tU5Q77aTZ",
        "outputId": "6ef30997-104b-4f28-8f63-5d44d484ba5d"
      },
      "execution_count": 5,
      "outputs": [
        {
          "output_type": "stream",
          "name": "stdout",
          "text": [
            "1/1 [==============================] - 0s 61ms/step\n"
          ]
        },
        {
          "output_type": "execute_result",
          "data": {
            "text/plain": [
              "array([[19.023632]], dtype=float32)"
            ]
          },
          "metadata": {},
          "execution_count": 5
        }
      ]
    },
    {
      "cell_type": "markdown",
      "source": [
        "## huber loss function with wrapper\n",
        "In that case we can pass any type of parameter to the function, thresold is the most important parameter in that type of loss function , so we need to tune this parameter."
      ],
      "metadata": {
        "id": "iTLnvzMQ8JJG"
      }
    },
    {
      "cell_type": "code",
      "source": [
        "def huber_loss_wrapper(thresold):\n",
        "    def huber_loss(y_true , y_pred):\n",
        "        error = y_true - y_pred\n",
        "        return_type = tf.abs(error) <= thresold\n",
        "        r1 = 0.5 * tf.square(error)\n",
        "        r2 = thresold * (tf.abs(error) - (0.5*thresold))\n",
        "        return tf.where(return_type , r1 , r2)\n",
        "    return huber_loss"
      ],
      "metadata": {
        "id": "O99L1PvO8CNd"
      },
      "execution_count": 6,
      "outputs": []
    },
    {
      "cell_type": "code",
      "source": [
        "input = Input(shape=(1,) , name=\"input_layer\")\n",
        "output_layer = Dense(1 , name=\"output_layer\")(input)\n",
        "\n",
        "model2 = tf.keras.models.Model(inputs=input,\n",
        "                               outputs=output_layer)\n",
        "\n",
        "model2.compile(optimizer=\"sgd\",\n",
        "               loss=huber_loss_wrapper(thresold=1))\n",
        "\n",
        "model2.fit(xs,\n",
        "           ys,\n",
        "           epochs=500,\n",
        "           verbose=0)\n",
        "\n",
        "model2.predict([[10.0]])"
      ],
      "metadata": {
        "colab": {
          "base_uri": "https://localhost:8080/"
        },
        "id": "JNyGnoW28eab",
        "outputId": "d948bf07-7c3e-465b-efa2-3ead974ab7fe"
      },
      "execution_count": 7,
      "outputs": [
        {
          "output_type": "stream",
          "name": "stdout",
          "text": [
            "1/1 [==============================] - 0s 41ms/step\n"
          ]
        },
        {
          "output_type": "execute_result",
          "data": {
            "text/plain": [
              "array([[19.026018]], dtype=float32)"
            ]
          },
          "metadata": {},
          "execution_count": 7
        }
      ]
    },
    {
      "cell_type": "markdown",
      "source": [
        "## Own loss Class & Object"
      ],
      "metadata": {
        "id": "nSkpDaXQ9EQB"
      }
    },
    {
      "cell_type": "code",
      "source": [
        "class Huber(Loss):\n",
        "    thresold = 1\n",
        "    def __init__(self, thresold):\n",
        "        super().__init__()\n",
        "        self.thresold = thresold\n",
        "\n",
        "    def call(self, y_true, y_pred):\n",
        "        error = y_true - y_pred\n",
        "        return_type = tf.abs(error) <= self.thresold\n",
        "        r1 = 0.5 * tf.square(error)\n",
        "        r2 = self.thresold * (tf.abs(error) - (0.5*self.thresold))\n",
        "        return tf.where(return_type , r1 , r2)"
      ],
      "metadata": {
        "id": "VUWYE6jo86bz"
      },
      "execution_count": 8,
      "outputs": []
    },
    {
      "cell_type": "code",
      "source": [
        "input = Input(shape=(1,) , name=\"input_layer\")\n",
        "output_layer = Dense(1 , name=\"output_layer\")(input)\n",
        "\n",
        "model3 = tf.keras.models.Model(inputs=input,\n",
        "                               outputs=output_layer)\n",
        "\n",
        "model3.compile(optimizer=\"sgd\",\n",
        "               loss=Huber(thresold=1))\n",
        "\n",
        "model3.fit(xs,\n",
        "           ys,\n",
        "           epochs=500,\n",
        "           verbose=0)\n",
        "\n",
        "model3.predict([[10.0]])"
      ],
      "metadata": {
        "colab": {
          "base_uri": "https://localhost:8080/"
        },
        "id": "P3Vb45IQ9icF",
        "outputId": "0dfadaba-c392-456f-bb3c-bb97f91f3af7"
      },
      "execution_count": 9,
      "outputs": [
        {
          "output_type": "stream",
          "name": "stdout",
          "text": [
            "1/1 [==============================] - 0s 41ms/step\n"
          ]
        },
        {
          "output_type": "execute_result",
          "data": {
            "text/plain": [
              "array([[19.017038]], dtype=float32)"
            ]
          },
          "metadata": {},
          "execution_count": 9
        }
      ]
    },
    {
      "cell_type": "code",
      "source": [],
      "metadata": {
        "id": "BV-ggzHI-FYr"
      },
      "execution_count": null,
      "outputs": []
    }
  ]
}